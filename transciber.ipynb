{
 "cells": [
  {
   "cell_type": "code",
   "execution_count": 18,
   "metadata": {},
   "outputs": [],
   "source": [
    "import whisper\n",
    "import random\n",
    "\n",
    "ran_num = random.randint(1,100)\n",
    "\n",
    "model = whisper.load_model('base')\n",
    "response = model.transcribe(\"audio_files/0f119ce2-c824-4bbe-8da1-253b8a79c4bb.wav\",fp16=False)\n",
    "\n",
    "\n",
    "\n",
    "\n"
   ]
  },
  {
   "cell_type": "code",
   "execution_count": 19,
   "metadata": {},
   "outputs": [],
   "source": [
    "response_byte = response['text'].encode('utf-8')\n"
   ]
  },
  {
   "cell_type": "code",
   "execution_count": 20,
   "metadata": {},
   "outputs": [],
   "source": [
    "with open(f\"Transcribed{ran_num}.txt\",\"wb\") as file:\n",
    "    file.write(response_byte)\n"
   ]
  },
  {
   "cell_type": "code",
   "execution_count": null,
   "metadata": {},
   "outputs": [],
   "source": []
  }
 ],
 "metadata": {
  "kernelspec": {
   "display_name": "Python 3.10.6 ('whisperenv': venv)",
   "language": "python",
   "name": "python3"
  },
  "language_info": {
   "codemirror_mode": {
    "name": "ipython",
    "version": 3
   },
   "file_extension": ".py",
   "mimetype": "text/x-python",
   "name": "python",
   "nbconvert_exporter": "python",
   "pygments_lexer": "ipython3",
   "version": "3.10.6"
  },
  "orig_nbformat": 4,
  "vscode": {
   "interpreter": {
    "hash": "6879ab0fc31e00da0f2093f139e0b9250794951d777feed82f18e6c40741f5dd"
   }
  }
 },
 "nbformat": 4,
 "nbformat_minor": 2
}
